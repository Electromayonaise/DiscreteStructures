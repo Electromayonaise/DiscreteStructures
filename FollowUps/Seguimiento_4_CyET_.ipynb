{
  "nbformat": 4,
  "nbformat_minor": 0,
  "metadata": {
    "colab": {
      "provenance": []
    },
    "kernelspec": {
      "name": "python3",
      "display_name": "Python 3"
    },
    "language_info": {
      "name": "python"
    }
  },
  "cells": [
    {
      "cell_type": "markdown",
      "source": [
        "# Seguimiento 4 CyET\n",
        "\n",
        "## Martín Gómez Caicedo\n",
        "\n",
        "##Objetivos\n",
        "\n",
        "### Inducción y recursividad\n",
        "- OT2. Aplicar inducción matemática para definir estructuras discretas, demostrar sus propiedades y verificar algoritmos formalmente\n",
        "\n",
        "### Instrucciones\n",
        "\n",
        "- Resolver los ejercicios que encuentra a continuación.\n",
        "La solución de los dos primeros puntos debe quedar escrita en un archivo .docx, ipynb (colab), o google docs.\n",
        "- La solución del tercer punto debe quedar en una hoja de trabajo o worksheet de Scala (archivo de texto o con extensión .sc).\n",
        "- Entregue usando moodle un archivo .zip con Las soluciones a los ejercicios. El nombre de su seguimiento debe seguir el formato: S4-PRIMERAPELLIDO_PRIMERNOMBRE.zipzip\n",
        "- La rúbrica de la evaluación la encuentra en el siguiente enlace [link]\n",
        "\n",
        "### Algoritmos recursivos\n",
        "\n",
        "1. (15 ptos)  Diseñe un algoritmo recursivo que calcule el número de ceros en una cadena de n bits. Para probar la correctitud del anterior ejercicio usted debe utilizar inducción estructural : (5 ptos) Probar el caso base (5 ptos) formular correctamente la hipótesis inductiva (25 ptos) probar la correctitud de su algoritmo suponiendo válida la hipótesis inductiva del paso previo acorde con los lineamientos de la inducción estructural.\n",
        "\n",
        "\n",
        "2. (50 ptos) Implemente en Scala el algoritmo propuesto en el primer punto. Para su implementación puede usar una hoja de trabajo o worksheet de Scala.\n"
      ],
      "metadata": {
        "id": "vzXIs5mxxgEu"
      }
    },
    {
      "cell_type": "markdown",
      "source": [
        "#### 1.1 Algoritmo recursivo (pseudo código)"
      ],
      "metadata": {
        "id": "ft22SLAPzAKd"
      }
    },
    {
      "cell_type": "markdown",
      "source": [
        "```pseudo\n",
        "def countZeros(bit_string):\n",
        "  if (bit_string.lenght == 0) 0 // Si la cadena es vacía, retorna 0 ceros\n",
        "  else\n",
        "      if (bit_string[0] == \"0\") 1 + countZeros(bit_string[1:]) // Si el primer carácter es '0', aumenta el contador en 1 y hace un llamado recursivo a el resto de la cadena (sin el primer número)\n",
        "      else countZeros(bit_string[1:]) //  Si el primer carácter no es '0', sigue recursivamente con el resto de la cadena (sin el primer número)\n",
        "```"
      ],
      "metadata": {
        "id": "K3cQYRkU9HBt"
      }
    },
    {
      "cell_type": "markdown",
      "source": [
        "#### 1.2 Inducción Estructural\n",
        "\n",
        "##### 1.2.1 Paso Base: Cadena con un cero: 01. En este caso la cadena tiene 1 cero, y en el pseudo código retornaría 1.\n",
        "\n",
        "##### 1.2.2 Paso Recursivo: Suponemos que countzeros para una cadena de longitud k funciona correctamente, es decir **countzeros(k)** es verdadero. Ahora debemos probar que funciona para una cadena de longitud k+1, llámese a esta nueva cadena n. En efecto:\n",
        "\n",
        "- En caso de que el bit agregado (primer carácter) de la cadena sea un 0, countzeros(n) retorna  1 + countzeros(n[1:]) es decir, 1+ el número de bits 0 en el resto de la cadena sin del bit agregado, que tiene longitud $k$. Por hipótesis inductiva countzeros de la cadena de longitud $k$ tiene el número correcto de bits 0. Por lo tanto  1+ el resto de bits 0 en la cadena sin del bit agregado es el número correcto de ceros en la cadena n.\n",
        "\n",
        "- En caso de que el bit agregado (primer carácter) de la cadena sea un 1, countzeros(n) retorna countzeros(n[1:]) es decir, el número de bits 0 en el resto de la cadena sin del bit agregado, que tiene longitud $k$. Por hipótesis inductiva countzeros de la cadena de longitud $k$ tiene el número correcto de bits 0. Por lo tanto el número de bits 0 en el resto de la cadena sin del bit agregado es el número correcto de ceros en la cadena n.\n",
        "\n",
        "Por lo tanto, la función countzeros es válida para cualquier longitud de cadena binaria."
      ],
      "metadata": {
        "id": "9_As5Yz91Try"
      }
    },
    {
      "cell_type": "markdown",
      "source": [
        "#### 2. Implementación en Scala"
      ],
      "metadata": {
        "id": "QCUG3zVW69Vl"
      }
    },
    {
      "cell_type": "markdown",
      "source": [
        "```scala\n",
        "def countZeros(string: String): Int = {\n",
        "  // Caso base: cadena vacía\n",
        "  if (string.isEmpty) {\n",
        "    0\n",
        "  } else {\n",
        "    // Si el primer carácter es '0', incrementa el contador en 1 y llama recursivamente al resto de la cadena\n",
        "    if (string.head == '0') {\n",
        "      1 + countZeros(string.tail)\n",
        "    } else {\n",
        "      // Si el primer carácter no es '0', llama recursivamente al resto de la cadena sin incrementar el contador\n",
        "      countZeros(string.tail)\n",
        "    }\n",
        "  }\n",
        "}\n",
        "```\n"
      ],
      "metadata": {
        "id": "Q6qL0UhA8oia"
      }
    }
  ]
}