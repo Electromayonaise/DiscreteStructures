{
  "nbformat": 4,
  "nbformat_minor": 0,
  "metadata": {
    "colab": {
      "provenance": []
    },
    "kernelspec": {
      "name": "python3",
      "display_name": "Python 3"
    },
    "language_info": {
      "name": "python"
    }
  },
  "cells": [
    {
      "cell_type": "markdown",
      "source": [
        "##Seguimiento Demostraciones\n",
        "\n",
        "### Martín Gómez Caicedo\n",
        "\n",
        "1. Demuestre que $n^2+n$ es divisible por 2 para todo $n > 0$.\n",
        "\n",
        "Paso Base: $P(1) = 1^2 +1 = 2$ y sabemos que $\\frac{2}{2} = 1$, es decír 2 es divisible entre 2, lo que es lo mismo que decir que 2 es número par o que 2 es expresable de la forma 2n.\n",
        "\n",
        "Paso Inductivo: Ahora bien, asumimos que la proposición $P(k): k^2 + k$ es verdadera, y ahora lo que debemos demostrar es que $P(k) -> P(k+1) : (k+1)^2 + k+1 = 2n$\n",
        "\n",
        "- En primer lugar, notese que  $(k+1)^2 + k+1$ contiene en su primer término un trinomio cuadrado perfecto que podemos expandir, dejandonos con $k^2 + 2k + 1 + k + 1$\n",
        "\n",
        "- Esto lo podemos reescribir como $k^2 + k + 2k + 2$ y si notamos la primera suma $(k^2+k)$ es reemplazable por hipotesis inductiva a $P(k)$ el cual sabemos es par, por lo tanto tenemos $2n + 2k + 2$\n",
        "\n",
        "- Ahora, $2k+2$ lo podemos ver como $2(k+1)$, y si tomamos k+1 como una variable x, entonces tendríamos que esto representa un número par de la forma 2x, y por convención la suma de dos números pares $(2n+2x)$ da como resultado un número par. Otra manera de verlo es nuevamente expresarlo como $2(n+x)$ donde si consideramos $n+x$ como una variable m, obtenemos un número par (divisible por 2) de la forma 2m.\n",
        "\n",
        "Así, demostramos que $P(k) -> P(k+1)$ para todo $n>0$.\n",
        "\n",
        "2. Demuestre que $3^n>n$ , para todo $n > 1$.\n",
        "\n",
        "Paso Base: $P(2) : 3^2 >2$ , y en efecto $9>2$\n",
        "\n",
        "Paso Inductivo: Ahora bien, asumimos que la proposición $P(k) : 3^k > k$ es verdadera, y ahora lo que debemos demostrar es que $P(k) -> P(k+1): 3^{k+1} > k+1 $\n",
        "\n",
        "- En primer lugar, por hipótesis inductiva planteemos que $3^k >k$\n",
        "- Multiplicamos por 3 a ambos lados de la desigualdad: $3^{k+1} > 3k$\n",
        "- Fijemonos en el lado derecho de la desigualdad, $3k$ es reescribible como $k+k+k$, y sabemos que para un valor de n (es decir, k) mayor a 1 como plantea la proposición siempre se va a complir que $k+k+k > k+1$, y al $k+1$ ser menor a $3k$ esto implica que   $3^{k+1} > 3k > k+1$\n",
        "- Ahora, simplemente replanteamos la desigualdad como $3^{k+1} >k+1$\n",
        "\n",
        "Así, demostramos que $P(k) -> P(k+1)$ para todo $n>1$.\n"
      ],
      "metadata": {
        "id": "NKWKpAVeofzB"
      }
    }
  ]
}