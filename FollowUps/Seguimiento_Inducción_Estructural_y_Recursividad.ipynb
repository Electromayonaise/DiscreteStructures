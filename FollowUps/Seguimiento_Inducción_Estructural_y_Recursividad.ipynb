{
  "nbformat": 4,
  "nbformat_minor": 0,
  "metadata": {
    "colab": {
      "provenance": []
    },
    "kernelspec": {
      "name": "python3",
      "display_name": "Python 3"
    },
    "language_info": {
      "name": "python"
    }
  },
  "cells": [
    {
      "cell_type": "markdown",
      "source": [
        "# **Seguimiento Inducción Estructural y Recursividad**\n",
        "\n",
        "## *Martín Gómez Caicedo*\n",
        "\n",
        "### Objetivos\n",
        "### Inducción y recursividad\n",
        "\n",
        "#### OT2. Aplicar inducción matemática para definir estructuras discretas, demostrar sus propiedades y verificar algoritmos formalmente\n",
        "#### OT1. Aplicar el paradigma funcional en el análisis, diseño, evaluación, selección e implementación de algoritmos para dar solución a problemas cuya estructura es naturalmente autocontenida.\n",
        "\n",
        "### Instrucciones\n",
        "\n",
        "- Resolver los dos ejercicios que encuentra a continuación. Su solución debe quedar escrita en un archivo .docx , colab, o google docs.\n",
        "- El nombre de su seguimiento debe seguir el formato: S5-PRIMERAPELLIDO_PRIMERNOMBRE.xxx\n",
        "- La rúbrica de la evaluación la encuentra en el siguiente enlace [link](https://docs.google.com/spreadsheets/d/1AHyxRo9_EDvJL5hP49ejbESGACpdSVfH/edit#gid=287626241)\n",
        "\n",
        "## *Algoritmos recursivos [50 pts]*\n",
        "\n",
        "a) (30 ptos) Halle una relación de recurrencia con sus respectivas condiciones iniciales para encontrar $b_{n}$ , el número de cadenas de letras mayúsculas que no contienen FOG.\n",
        "\n",
        "b) (20 ptos) Halle la ecuación característica y la solución general de la siguiente relación de recurrencia: $a_{n} = 2a_{n-1} - a_{n-2}$\n",
        "\n",
        "## *Programación funcional [50 pts]*\n",
        "\n",
        "Programe en Scala usando listas recursivas y pattern matching una función que reciba como parámetro una lista de enteros y un entero.  La función retorna la cantidad de veces que el número está en la lista.  Pruebe su función incluyendo pruebas con listas vacías, con un solo elemento, con dos elementos, con más de 5 elementos y casos en los que el elemento no esté en la lista, esté una sola vez y muchas veces en la lista.\n",
        "Para entregar este punto usted debe incluir el código de su solución y de las pruebas en el archivo del primer punto.   Nota: el código debe poderse copiar y pegar\n",
        "\n"
      ],
      "metadata": {
        "id": "vLtFbmGGwtj_"
      }
    },
    {
      "cell_type": "markdown",
      "source": [
        "## *Algoritmos recursivos*\n",
        "\n",
        "a) En primer lugar definamos $b_{n}$ como el número de cadenas de letras mayúsculas de longitud $n$ que no contienen \"FOG\". Tomemos en cuenta los siguientes casos base:\n",
        "\n",
        "$b_{0} = 1$\n",
        "\n",
        "$b_{1} = 26$\n",
        "\n",
        "$b_{2} = 676$\n",
        "\n",
        "$b_{3} = 17575$\n",
        "\n",
        "$b_{4} = 456924$\n",
        "\n",
        "\n",
        "Para encontrar una relación de recurrencia debemos considerar dos casos:\n",
        "\n",
        "1. La cadena termina en una letra que no sea \"G\" y las $n-1$, anteriores no forman \"FOG\", llámese a el número de estas cadenas $A_{n}$. Entonces, la canditad de cadenas en $A_{n}$ es igual a $ 26 ⋅ b_{n-1} $ (pues no se va a formar \"FOG\" sin importar los caracteres anteriores)\n",
        "\n",
        "2. La cadena termina en \"G\", pero la letra $n-3$ no puede ser \"F\" y así, independientemente del caracter $b_{n-2}$, no se formará \"FOG\". Por lo tanto, basta con restar la posibilidad de que el carácter $b_{n-3}$ sea \"F\".\n",
        "\n",
        "\n",
        "Entonces, la relación de recurrencia para $b_{n}$ es:\n",
        "\n",
        "$$b_{n} = 26 ⋅ b_{n-1} - b_{n-3}$$\n",
        "\n",
        "Podemos probar esta relación con $b_{4}$ y deberíamos obtener 456924\n",
        "\n",
        "$$b_{4} = 26 ⋅ b_{3} - b_{1}$$\n",
        "$$b_{4} = 26 ⋅ 17575 - 26$$\n",
        "$$b_{4} = 456924$$\n",
        "\n",
        "Y podemos ver que efectivamente, es la relación de recurrencia correcta.\n",
        "\n",
        "\n",
        "\n"
      ],
      "metadata": {
        "id": "o-8veMZ5yIhD"
      }
    },
    {
      "cell_type": "markdown",
      "source": [
        "b) Para encontrar la solución general de la relación de recurrencia $a_n = 2a_{n-1} - a_{n-2}$, primero necesitamos encontrar su ecuación característica.\n",
        "\n",
        "Supongamos que la solución de la forma $a_n = r^n$ donde $r$ es una constante. Sustituyendo esta suposición en la relación de recurrencia, obtenemos:\n",
        "\n",
        "$r^n = 2r^{n-1} - r^{n-2}$\n",
        "\n",
        "Dividiendo toda la ecuación por $r^{n-2}$ (suponiendo que $r \\neq 0$), obtenemos:\n",
        "\n",
        "$r^2 = 2r - 1$\n",
        "\n",
        "Esto nos da la ecuación característica:\n",
        "\n",
        "$r^2 - 2r + 1 = 0$\n",
        "\n",
        "Para resolver esta ecuación cuadrática, podemos factorizarla o utilizar la fórmula cuadrática. En este caso, factorizemosla como $(r - 1)^2 = 0$, lo que implica que $r = 1$ es una raíz de multiplicidad dos.\n",
        "\n",
        "Por lo tanto, la solución general de la ecuación característica es:\n",
        "\n",
        "$a_n = α_{1} \\cdot 1^n + α_{2} \\cdot n \\cdot 1^n$\n",
        "\n",
        "Donde $α_1$ y $α_2$ son constantes determinadas por las condiciones iniciales del problema. La presencia de $n$ en la segunda parte de la solución se debe a la multiplicidad dos de la raíz $r = 1$."
      ],
      "metadata": {
        "id": "CSKR5ypBDRBG"
      }
    },
    {
      "cell_type": "markdown",
      "source": [
        "## *Programación funcional*\n",
        "\n"
      ],
      "metadata": {
        "id": "XYTqyLzN6ivT"
      }
    },
    {
      "cell_type": "markdown",
      "source": [
        "``` scala\n",
        "\n",
        "  def countOccurrences(list: List[Int], num: Int): Int = {\n",
        "    list match {\n",
        "      case Nil => 0 // Caso base: lista vacía, retorna 0\n",
        "      case head :: tail =>\n",
        "        // Verificamos si el primer elemento es igual a num, de ser así sumamos 1\n",
        "        // Luego, hacemos recursión con la cola de la lista\n",
        "        if (head == num) 1 + countOccurrences(tail, num)\n",
        "        // De lo contrario hacemos recursión con la cola de la lista sin sumar nada\n",
        "        else countOccurrences(tail, num)\n",
        "    }\n",
        "  }\n",
        "\n",
        "  // Pruebas\n",
        "  val listaVacia = List()\n",
        "  val listaUno = List(5)\n",
        "  val listaDos = List(3, 3)\n",
        "  val listaCinco = List(1, 2, 3, 4, 5)\n",
        "  val listaMuchos = List(2, 2, 3, 2, 4, 2, 5, 2)\n",
        "\n",
        "  println(\"Pruebas:\")\n",
        "  println(s\"Cantidad de veces que aparece 2 en la lista $listaVacia: ${countOccurrences(listaVacia, 2)}\")\n",
        "  println(s\"Cantidad de veces que aparece 5 en la lista $listaUno: ${countOccurrences(listaUno, 5)}\")\n",
        "  println(s\"Cantidad de veces que aparece 3 en la lista $listaDos: ${countOccurrences(listaDos, 3)}\")\n",
        "  println(s\"Cantidad de veces que aparece 4 en la lista $listaCinco: ${countOccurrences(listaCinco, 4)}\")\n",
        "  println(s\"Cantidad de veces que aparece 2 en la lista $listaMuchos: ${countOccurrences(listaMuchos, 2)}\")\n",
        "\n",
        "```"
      ],
      "metadata": {
        "id": "HiNSJhdp6pd6"
      }
    },
    {
      "cell_type": "code",
      "source": [
        "import itertools\n",
        "\n",
        "def generate_strings(n):\n",
        "    alphabet = 'abcdefghijklmnopqrstuvwxyz'\n",
        "    strings = [''.join(p) for p in itertools.product(alphabet, repeat=n) if 'fos' not in ''.join(p)]\n",
        "    return strings\n",
        "\n",
        "n = int(input(\"Ingrese el tamaño de la cadena: \"))\n",
        "result = generate_strings(n)\n",
        "print(\"Cadenas generadas sin el substring 'fos':\",len(result))"
      ],
      "metadata": {
        "colab": {
          "base_uri": "https://localhost:8080/"
        },
        "id": "qXfE_WMCWXiI",
        "outputId": "45c5ec0c-742d-4ad0-9b26-a9ddfd2fbe73"
      },
      "execution_count": null,
      "outputs": [
        {
          "output_type": "stream",
          "name": "stdout",
          "text": [
            "Ingrese el tamaño de la cadena: 4\n",
            "Cadenas generadas sin el substring 'fos': 456924\n"
          ]
        }
      ]
    }
  ]
}