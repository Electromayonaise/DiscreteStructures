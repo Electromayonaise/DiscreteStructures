{
  "nbformat": 4,
  "nbformat_minor": 0,
  "metadata": {
    "colab": {
      "provenance": []
    },
    "kernelspec": {
      "name": "python3",
      "display_name": "Python 3"
    },
    "language_info": {
      "name": "python"
    }
  },
  "cells": [
    {
      "cell_type": "markdown",
      "source": [
        "# Inducción y recursividad - Seguimiento\n",
        "\n",
        "## Martín Gómez Caicedo\n",
        "\n"
      ],
      "metadata": {
        "id": "z3oK5Zlz9Iu4"
      }
    },
    {
      "cell_type": "markdown",
      "source": [
        "1. Algoritmos recursivos\n",
        "\n",
        "a. (20 ptos)  De una definición recursiva del conjunto de los enteros positivos potencias de 4.\n",
        "\n",
        "### Paso Base:\n",
        "\n",
        "$4 ∈ S$, donde S es el conjunto de los enteros positivos potencias de 4, podemos definir los elementos como:\n",
        "\n",
        "$a_0= 4^1$ \\\n",
        "$a_1= a_0 ⋅ 4$  \n",
        "$a_2= a_1 ⋅ 4$ \\\n",
        "$a_3= a_2 ⋅ 4$\n",
        "\n",
        "Y así sucesivamente, por lo que:\n",
        "\n",
        "Paso recursivo: Si $x ∈ S$, entonces $x⋅4 ∈ S$.\n",
        "\n",
        "b. (30 ptos) Defina el conjunto S por:  Paso Base: 10S,15S. Paso Recursivo: si x,yS , entonces x+yS. Demuestre que todo zS es divisible por 5.\n",
        "\n",
        "Paso Base:\n",
        "\n",
        "10 = 5x2, por lo que 10 es divisible por 5 \\\n",
        "15 = 5x3, por lo que 15 es divisible por 5\n",
        "\n",
        "Paso recursivo:\n",
        "\n",
        "Supongamos que $x$ y $y$ son elementos de $S$ tales que son divisibles por 5, es decir, $x=5k$ y $y=5m$, donde $k$ y $m$ son enteros. Entonces, $x+y=5k + 5m = 5(k+m)$, que es divisible por 5, ya que k+m es un entero. Esto demuestra que si $x$ y $y$ son divisibles por 5, entonces su suma $x+y$ también es divisible por 5. Por inducción concluimos que todo z en S es divisible por 5.\n"
      ],
      "metadata": {
        "id": "VA85_Rok9Sd7"
      }
    },
    {
      "cell_type": "markdown",
      "source": [
        "Programación funcional [50 pts]\n",
        "\n",
        "Para el siguiente fragmento de código en Scala\n"
      ],
      "metadata": {
        "id": "F7eBBA8l_Ezp"
      }
    },
    {
      "cell_type": "code",
      "source": [
        "def a =3\n",
        "def misterio2(n:Int):Int =\n",
        " if (n==0) 0\n",
        " else\n",
        "   if (n==1) 1\n",
        "   else misterio2(n-1) + misterio2(n-2)\n",
        "misterio2(3+a)"
      ],
      "metadata": {
        "id": "dmzuE1Jg_GwJ"
      },
      "execution_count": null,
      "outputs": []
    },
    {
      "cell_type": "markdown",
      "source": [
        "\n",
        "\n",
        "Aplique la regla de evaluación paso a paso (40 pts) e indique el valor que se produce al evaluar la expresión $misterio2(3+a)$ (10 pts).\n",
        "\n",
        "Análisis de la función misterio2(n):\n",
        "\n",
        "- La función toma un parámetro entero: n\n",
        "\n",
        "- Si n es igual a 0, devuelve 0.\n",
        "De lo contrario, evalúa si n es igual a 1, si es así devuelve 1\n",
        "De lo contrario, hace una suma de dos llamadas recursivas a misterio2, la primera con n-1 como parámetro, y la segunda con n-2 como parámetro. Esto quiere decir que esta función es una aplicación de fibonacci\n",
        "\n",
        "Evaluación:\n",
        "\n",
        "Ahora, la evaluación de la llamada a misterio2(3+a) paso a paso:\n",
        "\n",
        "- Al tener misterio2(3+a) primero se evalúa el valor de a y posteriormente se hace la llamada a misterio2(6)\n",
        "\n",
        "- misterio2(6) no cumple la condición n == 0, por lo que pasamos a el else\n",
        "- misterio2(6) no cumple la condición n == 1, por lo que pasamos a el else\n",
        "- Se llama recursivamente a misterio2(5)\n",
        " - misterio2(5) no cumple la condición n == 0, por lo que pasamos a el else\n",
        " - misterio2(5) no cumple la condición n == 1, por lo que pasamos a el else\n",
        " - Se llama recursivamente a misterio2(4)\n",
        "   - misterio2(4) no cumple la condición n == 0, por lo que pasamos a el else\n",
        "   - misterio2(4) no cumple la condición n == 1, por lo que pasamos a el else\n",
        "   -Se llama recursivamente a misterio2(3)\n",
        "     - misterio2(3) no cumple la condición n == 0, por lo que pasamos a el else\n",
        "     - misterio2(3) no cumple la condición n == 1, por lo que pasamos a el else\n",
        "     - Se llama recursivamente a misterio2(2)\n",
        "      - misterio2(2) no cumple la condición n == 0, por lo que pasamos a el else\n",
        "      - misterio2(2) no cumple la condición n == 1, por lo que pasamos a el else\n",
        "      - Se llama recursivamente a misterio2(1)\n",
        "        - misterio2(1) no cumple la condición n == 0, por lo que pasamos a el else\n",
        "        -misterio2(1) cumple la condición n == 1, por lo que se retorna 1\n",
        "      - Se llama recursivamente a misterio2(0)\n",
        "        - misterio2(0) cumple la condición n == 0, por lo que retorna 0\n",
        "      - Se evalúa la suma de ambas, lo que retorna 1\n",
        "\n",
        "     - Se llama recursivamente a misterio2(1)\n",
        "      - misterio2(1) no cumple la condición n == 0, por lo que pasamos a el else\n",
        "      - misterio2(1) cumple la condición n == 1, por lo que se retorna 1.  \n",
        "     - Se evalúa la suma de ambas, lo que retorna 2\n",
        "\n",
        "    - Se llama recursivamente a misterio2(2)\n",
        "      - misterio2(2) no cumple la condición n == 0, por lo que pasamos a el else\n",
        "     - misterio2(2) no cumple la condición n == 1, por lo que pasamos a el else\n",
        "     - Se llama recursivamente a misterio2(1)\n",
        "       - misterio2(1) no cumple la condición n == 0, por lo que pasamos a el else\n",
        "       - misterio2(1) cumple la condición n == 1, por lo que se retorna 1\n",
        "      - Se llama recursivamente a misterio2(0)\n",
        "       - misterio2(0) cumple la condición n == 0, por lo que retorna 0\n",
        "     - Se evalúa la suma de ambas, lo que retorna 1\n",
        "\n",
        "   - Se calcula la suma de las 2, lo que retorna 3\n",
        "\n",
        "  - Se llama recursivamente a misterio2(3)\n",
        "    - misterio2(3) no cumple la condición n == 0, por lo que pasamos a el else\n",
        "    - misterio2(3) no cumple la condición n == 1, por lo que pasamos a el else\n",
        "    - Se llama recursivamente a misterio2(2)\n",
        "      - misterio2(2) no cumple la condición n == 0, por lo que pasamos a el else\n",
        "      - misterio2(2) no cumple la condición n == 1, por lo que pasamos a el else\n",
        "      - Se llama recursivamente a misterio2(1)\n",
        "        - misterio2(1) no cumple la condición n == 0, por lo que pasamos a el else\n",
        "        -misterio2(1) cumple la condición n == 1, por lo que se retorna 1\n",
        "      - Se llama recursivamente a misterio2(0)\n",
        "        - misterio2(0) cumple la condición n == 0, por lo que retorna 0\n",
        "      - Se evalúa la suma de ambas, lo que retorna 1\n",
        "\n",
        "     - Se llama recursivamente a misterio2(1)\n",
        "       - misterio2(1) no cumple la condición n == 0, por lo que pasamos a el else\n",
        "       - misterio2(1) cumple la condición n == 1, por lo que se retorna 1.  \n",
        "     - Se evalúa la suma de ambas, lo que retorna 2\n",
        "  - Se calcula la suma de ambas, lo que retorna 5\n",
        "\n",
        "- Se llama recursivamente a misterio2(4)\n",
        "  - misterio2(4) no cumple la condición n == 0, por lo que pasamos a el else\n",
        "  - misterio2(4) no cumple la condición n == 1, por lo que pasamos a el else\n",
        "  -Se llama recursivamente a misterio2(3)\n",
        "    - misterio2(3) no cumple la condición n == 0, por lo que pasamos a el else\n",
        "    - misterio2(3) no cumple la condición n == 1, por lo que pasamos a el else\n",
        "    - Se llama recursivamente a misterio2(2)\n",
        "     - misterio2(2) no cumple la condición n == 0, por lo que pasamos a el else\n",
        "     - misterio2(2) no cumple la condición n == 1, por lo que pasamos a el else\n",
        "      - Se llama recursivamente a misterio2(1)\n",
        "        - misterio2(1) no cumple la condición n == 0, por lo que pasamos a el else\n",
        "        -misterio2(1) cumple la condición n == 1, por lo que se retorna 1\n",
        "      - Se llama recursivamente a misterio2(0)\n",
        "        - misterio2(0) cumple la condición n == 0, por lo que retorna 0\n",
        "      - Se evalúa la suma de ambas, lo que retorna 1\n",
        "\n",
        "    - Se llama recursivamente a misterio2(1)\n",
        "      - misterio2(1) no cumple la condición n == 0, por lo que pasamos a el else\n",
        "      - misterio2(1) cumple la condición n == 1, por lo que se retorna 1.  \n",
        "     - Se evalúa la suma de ambas, lo que retorna 2\n",
        "\n",
        "    - Se llama recursivamente a misterio2(2)\n",
        "      - misterio2(2) no cumple la condición n == 0, por lo que pasamos a el else\n",
        "     - misterio2(2) no cumple la condición n == 1, por lo que pasamos a el else\n",
        "     - Se llama recursivamente a misterio2(1)\n",
        "       - misterio2(1) no cumple la condición n == 0, por lo que pasamos a el else\n",
        "       - misterio2(1) cumple la condición n == 1, por lo que se retorna 1\n",
        "      - Se llama recursivamente a misterio2(0)\n",
        "       - misterio2(0) cumple la condición n == 0, por lo que retorna 0\n",
        "     - Se evalúa la suma de ambas, lo que retorna 1\n",
        "\n",
        "   - Se calcula la suma de las 2, lo que retorna 3\n",
        "\n",
        "- Se calcula la suma de ambas, lo que retorna 8.\n",
        "\n",
        "Por lo tanto, el valor que se produce al evaluar la expresión $misterio2(3+a)$ es 8.\n"
      ],
      "metadata": {
        "id": "HCJjQXI92_Sc"
      }
    }
  ]
}